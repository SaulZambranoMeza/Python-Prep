{
 "cells": [
  {
   "attachments": {},
   "cell_type": "markdown",
   "metadata": {},
   "source": [
    "## Flujos de Control"
   ]
  },
  {
   "attachments": {},
   "cell_type": "markdown",
   "metadata": {},
   "source": [
    "1) Crear una variable que contenga un elemento del conjunto de números enteros y luego imprimir por pantalla si es mayor o menor a cero"
   ]
  },
  {
   "cell_type": "code",
   "execution_count": 6,
   "metadata": {},
   "outputs": [
    {
     "name": "stdout",
     "output_type": "stream",
     "text": [
      "6  Es mayor a 0\n"
     ]
    }
   ],
   "source": [
    "x = 6\n",
    "if x > 0:\n",
    "    print(x, ' Es mayor a 0')\n",
    "\n",
    "elif x < 0:\n",
    "    print(x, ' Es menor a 0')\n",
    "\n",
    "else:\n",
    "    print(x, ' Es igual a  0')"
   ]
  },
  {
   "attachments": {},
   "cell_type": "markdown",
   "metadata": {},
   "source": [
    "2) Crear dos variables y un condicional que informe si son del mismo tipo de dato"
   ]
  },
  {
   "cell_type": "code",
   "execution_count": 9,
   "metadata": {},
   "outputs": [
    {
     "name": "stdout",
     "output_type": "stream",
     "text": [
      "X y y no son del mimso tipo\n"
     ]
    }
   ],
   "source": [
    "x = 2\n",
    "y = 'j'\n",
    "if (type(x) == type(y)):\n",
    "    print('X y y son del mimso tipo')\n",
    "else:\n",
    "    print('X y y no son del mimso tipo')\n",
    "     "
   ]
  },
  {
   "attachments": {},
   "cell_type": "markdown",
   "metadata": {},
   "source": [
    "3) Para los valores enteros del 1 al 20, imprimir por pantalla si es par o impar"
   ]
  },
  {
   "cell_type": "code",
   "execution_count": 10,
   "metadata": {},
   "outputs": [
    {
     "name": "stdout",
     "output_type": "stream",
     "text": [
      "El numero  1  No es par\n",
      "El numero  2  Es par\n",
      "El numero  3  No es par\n",
      "El numero  4  Es par\n",
      "El numero  5  No es par\n",
      "El numero  6  Es par\n",
      "El numero  7  No es par\n",
      "El numero  8  Es par\n",
      "El numero  9  No es par\n",
      "El numero  10  Es par\n",
      "El numero  11  No es par\n",
      "El numero  12  Es par\n",
      "El numero  13  No es par\n",
      "El numero  14  Es par\n",
      "El numero  15  No es par\n",
      "El numero  16  Es par\n",
      "El numero  17  No es par\n",
      "El numero  18  Es par\n",
      "El numero  19  No es par\n",
      "El numero  20  Es par\n"
     ]
    }
   ],
   "source": [
    "for i in (range(1,21)):\n",
    "    if i % 2 == 0:\n",
    "        print(\"El numero \", str(i), \" Es par\")\n",
    "    else:\n",
    "        print(\"El numero \", str(i), \" No es par\")"
   ]
  },
  {
   "attachments": {},
   "cell_type": "markdown",
   "metadata": {},
   "source": [
    "4) En un ciclo for mostrar para los valores entre 0 y 5 el resultado de elevarlo a la potencia igual a 3"
   ]
  },
  {
   "cell_type": "code",
   "execution_count": 13,
   "metadata": {},
   "outputs": [
    {
     "name": "stdout",
     "output_type": "stream",
     "text": [
      "El valor de 0 elevado a la 3 potencia es:  0\n",
      "El valor de 1 elevado a la 3 potencia es:  1\n",
      "El valor de 2 elevado a la 3 potencia es:  8\n",
      "El valor de 3 elevado a la 3 potencia es:  27\n",
      "El valor de 4 elevado a la 3 potencia es:  64\n",
      "El valor de 5 elevado a la 3 potencia es:  125\n"
     ]
    }
   ],
   "source": [
    "for i in (range(0,6)):\n",
    "    print('El valor de', str(i), 'elevado a la 3 potencia es: ', str(i**3) )"
   ]
  },
  {
   "attachments": {},
   "cell_type": "markdown",
   "metadata": {},
   "source": [
    "5) Crear una variable que contenga un número entero y realizar un ciclo for la misma cantidad de ciclos"
   ]
  },
  {
   "cell_type": "code",
   "execution_count": 15,
   "metadata": {},
   "outputs": [
    {
     "name": "stdout",
     "output_type": "stream",
     "text": [
      "4\n"
     ]
    }
   ],
   "source": [
    "x = 5\n",
    "for i in range(0,x):\n",
    "    pass\n",
    "print(i)\n"
   ]
  },
  {
   "attachments": {},
   "cell_type": "markdown",
   "metadata": {},
   "source": [
    "6) Utilizar un ciclo while para realizar el factorial de un número guardado en una variable, sólo si la variable contiene un número entero mayor a 0"
   ]
  },
  {
   "cell_type": "code",
   "execution_count": 26,
   "metadata": {},
   "outputs": [
    {
     "name": "stdout",
     "output_type": "stream",
     "text": [
      "La variable no es mayor a 0\n"
     ]
    }
   ],
   "source": [
    "x = 0\n",
    "if (type(x) ==  int):\n",
    "    if (x > 0):\n",
    "        factorial = x\n",
    "        while(x > 2):\n",
    "            x= x - 1\n",
    "            factorial = factorial * x\n",
    "            print(' El factorial es ', factorial)\n",
    "    else:\n",
    "        print('La variable no es mayor a 0')\n",
    "else:\n",
    "    print('La variable no es un entero')\n"
   ]
  },
  {
   "attachments": {},
   "cell_type": "markdown",
   "metadata": {},
   "source": [
    "7) Crear un ciclo for dentro de un ciclo while"
   ]
  },
  {
   "cell_type": "code",
   "execution_count": 30,
   "metadata": {},
   "outputs": [
    {
     "name": "stdout",
     "output_type": "stream",
     "text": [
      "Ciclo con while es  1\n",
      "ciclo for nro 1\n",
      "Ciclo con while es  2\n",
      "ciclo for nro 1\n",
      "ciclo for nro 2\n",
      "Ciclo con while es  3\n",
      "ciclo for nro 1\n",
      "ciclo for nro 2\n",
      "ciclo for nro 3\n",
      "Ciclo con while es  4\n",
      "ciclo for nro 1\n",
      "ciclo for nro 2\n",
      "ciclo for nro 3\n",
      "ciclo for nro 4\n"
     ]
    }
   ],
   "source": [
    "n= 1\n",
    "while n < 5:\n",
    "    print('Ciclo con while es ', str(n) )\n",
    "    for i in range(1, n+1):\n",
    "        print('ciclo for nro', str(i))\n",
    "    n += 1\n"
   ]
  },
  {
   "attachments": {},
   "cell_type": "markdown",
   "metadata": {},
   "source": [
    "8) Crear un ciclo while dentro de un ciclo for"
   ]
  },
  {
   "cell_type": "code",
   "execution_count": 32,
   "metadata": {},
   "outputs": [
    {
     "name": "stdout",
     "output_type": "stream",
     "text": [
      "1\n",
      "2\n",
      "3\n",
      "4\n",
      "5\n"
     ]
    }
   ],
   "source": [
    "for i in range (1, 6):\n",
    "    suma = i + 1\n",
    "    while i >=5:\n",
    "        break\n",
    "    print(i)"
   ]
  },
  {
   "attachments": {},
   "cell_type": "markdown",
   "metadata": {},
   "source": [
    "9) Imprimir los números primos existentes entre 0 y 30"
   ]
  },
  {
   "cell_type": "code",
   "execution_count": 35,
   "metadata": {},
   "outputs": [
    {
     "name": "stdout",
     "output_type": "stream",
     "text": [
      "2\n",
      "3\n",
      "5\n",
      "7\n",
      "11\n",
      "13\n",
      "17\n",
      "19\n",
      "23\n",
      "29\n"
     ]
    }
   ],
   "source": [
    "tope_rango = 30\n",
    "n = 2  \n",
    "while n < tope_rango:\n",
    "    primo = True\n",
    "    for div in range(2, n):\n",
    "        if n % div == 0:\n",
    "            primo = False\n",
    "            break  \n",
    "\n",
    "    if primo:\n",
    "        print(n)\n",
    "\n",
    "    n += 1"
   ]
  },
  {
   "attachments": {},
   "cell_type": "markdown",
   "metadata": {},
   "source": [
    "10) ¿Se puede mejorar el proceso del punto 9? Utilizar las sentencias break y/ó continue para tal fin"
   ]
  },
  {
   "cell_type": "code",
   "execution_count": null,
   "metadata": {},
   "outputs": [],
   "source": [
    "tope_rango = 30\n",
    "n = 2  \n",
    "while n < tope_rango:\n",
    "    primo = True\n",
    "    for div in range(2, n):\n",
    "        if n % div == 0:\n",
    "            primo = False\n",
    "            break  \n",
    "\n",
    "    if primo:\n",
    "        print(n)\n",
    "\n",
    "    n += 1"
   ]
  },
  {
   "attachments": {},
   "cell_type": "markdown",
   "metadata": {},
   "source": [
    "11) En los puntos 9 y 10, se diseño un código que encuentra números primos y además se lo optimizó. ¿Es posible saber en qué medida se optimizó?"
   ]
  },
  {
   "cell_type": "code",
   "execution_count": 38,
   "metadata": {},
   "outputs": [
    {
     "name": "stdout",
     "output_type": "stream",
     "text": [
      "0\n",
      "1\n",
      "2\n",
      "3\n",
      "5\n",
      "7\n",
      "11\n",
      "13\n",
      "17\n",
      "19\n",
      "23\n",
      "29\n",
      "Cantidad de ciclos: 378\n"
     ]
    }
   ],
   "source": [
    "ciclos_sin_break = 0\n",
    "tope_rango = 30\n",
    "n = 0\n",
    "primo = True\n",
    "while (n < tope_rango):\n",
    "    for div in range(2, n):\n",
    "        ciclos_sin_break += 1\n",
    "        if (n % div == 0):\n",
    "            primo = False\n",
    "    if (primo):\n",
    "        print(n)\n",
    "    else:\n",
    "        primo = True\n",
    "    n += 1\n",
    "print('Cantidad de ciclos: ' + str(ciclos_sin_break))"
   ]
  },
  {
   "attachments": {},
   "cell_type": "markdown",
   "metadata": {},
   "source": [
    "12) Aplicando continue, armar un ciclo while que solo imprima los valores divisibles por 12, dentro del rango de números de 100 a 300"
   ]
  },
  {
   "cell_type": "code",
   "execution_count": 41,
   "metadata": {},
   "outputs": [
    {
     "name": "stdout",
     "output_type": "stream",
     "text": [
      "108 Es divisible\n",
      "120 Es divisible\n",
      "132 Es divisible\n",
      "144 Es divisible\n",
      "156 Es divisible\n",
      "168 Es divisible\n",
      "180 Es divisible\n",
      "192 Es divisible\n",
      "204 Es divisible\n",
      "216 Es divisible\n",
      "228 Es divisible\n",
      "240 Es divisible\n",
      "252 Es divisible\n",
      "264 Es divisible\n",
      "276 Es divisible\n",
      "288 Es divisible\n",
      "300 Es divisible\n"
     ]
    }
   ],
   "source": [
    "a = 99\n",
    "while (a <= 300):\n",
    "    a += 1\n",
    "    if (a % 12 != 0):\n",
    "        continue\n",
    "    print(a, 'Es divisible')"
   ]
  },
  {
   "attachments": {},
   "cell_type": "markdown",
   "metadata": {},
   "source": [
    "13) Utilizar la función **input()** que permite hacer ingresos por teclado, para encontrar números primos y dar la opción al usario de buscar el siguiente"
   ]
  },
  {
   "cell_type": "code",
   "execution_count": 1,
   "metadata": {},
   "outputs": [
    {
     "name": "stdout",
     "output_type": "stream",
     "text": [
      "1\n",
      "¿Desea encontrar el siguiente número primo?\n",
      "Se finaliza el proceso\n"
     ]
    }
   ],
   "source": [
    "n = 1\n",
    "sigue = 1\n",
    "primo = True\n",
    "while (sigue == 1):\n",
    "    for div in range(2, n):\n",
    "        if (n % div == 0):\n",
    "            primo = False\n",
    "            break\n",
    "    if (primo):\n",
    "        print(n)\n",
    "        print('¿Desea encontrar el siguiente número primo?')\n",
    "        if (input() != '1'):\n",
    "            print('Se finaliza el proceso')\n",
    "            break\n",
    "    else:\n",
    "        primo = True\n",
    "    n += 1"
   ]
  },
  {
   "attachments": {},
   "cell_type": "markdown",
   "metadata": {},
   "source": [
    "14) Crear un ciclo while que encuentre dentro del rango de 100 a 300 el primer número divisible por 3 y además múltiplo de 6"
   ]
  },
  {
   "cell_type": "code",
   "execution_count": 11,
   "metadata": {},
   "outputs": [
    {
     "name": "stdout",
     "output_type": "stream",
     "text": [
      "102\n"
     ]
    }
   ],
   "source": [
    "a = 100\n",
    "while(a<=300):\n",
    "    if (a % 6 == 0):\n",
    "        print(str(a))\n",
    "        break\n",
    "    a += 1"
   ]
  }
 ],
 "metadata": {
  "interpreter": {
   "hash": "c85384e4cb51c8b72350f3a8712cc8351fdc3955e32a27f9b60c6242ab125f01"
  },
  "kernelspec": {
   "display_name": "Python 3 (ipykernel)",
   "language": "python",
   "name": "python3"
  },
  "language_info": {
   "codemirror_mode": {
    "name": "ipython",
    "version": 3
   },
   "file_extension": ".py",
   "mimetype": "text/x-python",
   "name": "python",
   "nbconvert_exporter": "python",
   "pygments_lexer": "ipython3",
   "version": "3.11.2"
  }
 },
 "nbformat": 4,
 "nbformat_minor": 4
}
